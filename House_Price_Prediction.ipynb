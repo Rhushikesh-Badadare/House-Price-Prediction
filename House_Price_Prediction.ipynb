{
 "cells": [
  {
   "cell_type": "code",
   "execution_count": 1,
   "id": "77ce6197",
   "metadata": {},
   "outputs": [],
   "source": [
    "import pandas as pd\n",
    "import warnings\n",
    "warnings.filterwarnings('ignore')"
   ]
  },
  {
   "cell_type": "code",
   "execution_count": 2,
   "id": "68b5c7c2",
   "metadata": {},
   "outputs": [],
   "source": [
    "df_train = pd.read_csv('../../../../Dataset/House_Price_Prediction_Dataset/train (1).csv',\n",
    "                       keep_default_na= False)\n",
    "df_test = pd.read_csv('../../../../Dataset/House_Price_Prediction_Dataset/test (1).csv',\n",
    "                       keep_default_na= False)"
   ]
  },
  {
   "cell_type": "code",
   "execution_count": 3,
   "id": "683c5001",
   "metadata": {},
   "outputs": [],
   "source": [
    "# Have NA Category\n",
    "Valid_cat = ['Alley', 'BsmtQual', 'BsmtCond', 'BsmtExposure',\n",
    "        'BsmtFinType1','BsmtFinType2', 'FireplaceQu', 'GarageType',\n",
    "        'GarageFinish', 'GarageQual', 'GarageCond',\n",
    "        'PoolQC', 'Fence', 'MiscFeature']"
   ]
  },
  {
   "cell_type": "code",
   "execution_count": 4,
   "id": "1fa91533",
   "metadata": {},
   "outputs": [],
   "source": [
    "dict1 = {}\n",
    "for i in df_train.columns.drop('SalePrice'):\n",
    "    if i not in Valid_cat:\n",
    "        dict1[i] = ['', '#N/A', '#N/A N/A', '#NA', '-1.#IND', '-1.#QNAN', '-NaN', '-nan', '1.#IND', '1.#QNAN', '<NA>', 'N/A', 'NA', 'NULL', 'NaN', 'n/a', 'nan', 'null']\n",
    "    else:\n",
    "        dict1[i] = ['', '#N/A', '#N/A N/A', '#NA', '-1.#IND', '-1.#QNAN', '-NaN', '-nan', '1.#IND', '1.#QNAN', '<NA>', 'N/A', 'NULL', 'NaN', 'n/a', 'nan', 'null']"
   ]
  },
  {
   "cell_type": "code",
   "execution_count": 5,
   "id": "2cd19ef9",
   "metadata": {},
   "outputs": [],
   "source": [
    "df_train = pd.read_csv('../../../../Dataset/House_Price_Prediction_Dataset/train (1).csv',\n",
    "                       keep_default_na= False, na_values= dict1)\n",
    "df_test = pd.read_csv('../../../../Dataset/House_Price_Prediction_Dataset/test (1).csv',\n",
    "                       keep_default_na= False, na_values= dict1)"
   ]
  },
  {
   "cell_type": "code",
   "execution_count": 6,
   "id": "42b42601",
   "metadata": {},
   "outputs": [
    {
     "data": {
      "text/html": [
       "<div>\n",
       "<style scoped>\n",
       "    .dataframe tbody tr th:only-of-type {\n",
       "        vertical-align: middle;\n",
       "    }\n",
       "\n",
       "    .dataframe tbody tr th {\n",
       "        vertical-align: top;\n",
       "    }\n",
       "\n",
       "    .dataframe thead th {\n",
       "        text-align: right;\n",
       "    }\n",
       "</style>\n",
       "<table border=\"1\" class=\"dataframe\">\n",
       "  <thead>\n",
       "    <tr style=\"text-align: right;\">\n",
       "      <th></th>\n",
       "      <th>Id</th>\n",
       "      <th>MSSubClass</th>\n",
       "      <th>MSZoning</th>\n",
       "      <th>LotFrontage</th>\n",
       "      <th>LotArea</th>\n",
       "      <th>Street</th>\n",
       "      <th>Alley</th>\n",
       "      <th>LotShape</th>\n",
       "      <th>LandContour</th>\n",
       "      <th>Utilities</th>\n",
       "      <th>...</th>\n",
       "      <th>PoolArea</th>\n",
       "      <th>PoolQC</th>\n",
       "      <th>Fence</th>\n",
       "      <th>MiscFeature</th>\n",
       "      <th>MiscVal</th>\n",
       "      <th>MoSold</th>\n",
       "      <th>YrSold</th>\n",
       "      <th>SaleType</th>\n",
       "      <th>SaleCondition</th>\n",
       "      <th>SalePrice</th>\n",
       "    </tr>\n",
       "  </thead>\n",
       "  <tbody>\n",
       "    <tr>\n",
       "      <th>0</th>\n",
       "      <td>1</td>\n",
       "      <td>60</td>\n",
       "      <td>RL</td>\n",
       "      <td>65.0</td>\n",
       "      <td>8450</td>\n",
       "      <td>Pave</td>\n",
       "      <td>NA</td>\n",
       "      <td>Reg</td>\n",
       "      <td>Lvl</td>\n",
       "      <td>AllPub</td>\n",
       "      <td>...</td>\n",
       "      <td>0</td>\n",
       "      <td>NA</td>\n",
       "      <td>NA</td>\n",
       "      <td>NA</td>\n",
       "      <td>0</td>\n",
       "      <td>2</td>\n",
       "      <td>2008</td>\n",
       "      <td>WD</td>\n",
       "      <td>Normal</td>\n",
       "      <td>208500</td>\n",
       "    </tr>\n",
       "    <tr>\n",
       "      <th>1</th>\n",
       "      <td>2</td>\n",
       "      <td>20</td>\n",
       "      <td>RL</td>\n",
       "      <td>80.0</td>\n",
       "      <td>9600</td>\n",
       "      <td>Pave</td>\n",
       "      <td>NA</td>\n",
       "      <td>Reg</td>\n",
       "      <td>Lvl</td>\n",
       "      <td>AllPub</td>\n",
       "      <td>...</td>\n",
       "      <td>0</td>\n",
       "      <td>NA</td>\n",
       "      <td>NA</td>\n",
       "      <td>NA</td>\n",
       "      <td>0</td>\n",
       "      <td>5</td>\n",
       "      <td>2007</td>\n",
       "      <td>WD</td>\n",
       "      <td>Normal</td>\n",
       "      <td>181500</td>\n",
       "    </tr>\n",
       "    <tr>\n",
       "      <th>2</th>\n",
       "      <td>3</td>\n",
       "      <td>60</td>\n",
       "      <td>RL</td>\n",
       "      <td>68.0</td>\n",
       "      <td>11250</td>\n",
       "      <td>Pave</td>\n",
       "      <td>NA</td>\n",
       "      <td>IR1</td>\n",
       "      <td>Lvl</td>\n",
       "      <td>AllPub</td>\n",
       "      <td>...</td>\n",
       "      <td>0</td>\n",
       "      <td>NA</td>\n",
       "      <td>NA</td>\n",
       "      <td>NA</td>\n",
       "      <td>0</td>\n",
       "      <td>9</td>\n",
       "      <td>2008</td>\n",
       "      <td>WD</td>\n",
       "      <td>Normal</td>\n",
       "      <td>223500</td>\n",
       "    </tr>\n",
       "    <tr>\n",
       "      <th>3</th>\n",
       "      <td>4</td>\n",
       "      <td>70</td>\n",
       "      <td>RL</td>\n",
       "      <td>60.0</td>\n",
       "      <td>9550</td>\n",
       "      <td>Pave</td>\n",
       "      <td>NA</td>\n",
       "      <td>IR1</td>\n",
       "      <td>Lvl</td>\n",
       "      <td>AllPub</td>\n",
       "      <td>...</td>\n",
       "      <td>0</td>\n",
       "      <td>NA</td>\n",
       "      <td>NA</td>\n",
       "      <td>NA</td>\n",
       "      <td>0</td>\n",
       "      <td>2</td>\n",
       "      <td>2006</td>\n",
       "      <td>WD</td>\n",
       "      <td>Abnorml</td>\n",
       "      <td>140000</td>\n",
       "    </tr>\n",
       "    <tr>\n",
       "      <th>4</th>\n",
       "      <td>5</td>\n",
       "      <td>60</td>\n",
       "      <td>RL</td>\n",
       "      <td>84.0</td>\n",
       "      <td>14260</td>\n",
       "      <td>Pave</td>\n",
       "      <td>NA</td>\n",
       "      <td>IR1</td>\n",
       "      <td>Lvl</td>\n",
       "      <td>AllPub</td>\n",
       "      <td>...</td>\n",
       "      <td>0</td>\n",
       "      <td>NA</td>\n",
       "      <td>NA</td>\n",
       "      <td>NA</td>\n",
       "      <td>0</td>\n",
       "      <td>12</td>\n",
       "      <td>2008</td>\n",
       "      <td>WD</td>\n",
       "      <td>Normal</td>\n",
       "      <td>250000</td>\n",
       "    </tr>\n",
       "    <tr>\n",
       "      <th>...</th>\n",
       "      <td>...</td>\n",
       "      <td>...</td>\n",
       "      <td>...</td>\n",
       "      <td>...</td>\n",
       "      <td>...</td>\n",
       "      <td>...</td>\n",
       "      <td>...</td>\n",
       "      <td>...</td>\n",
       "      <td>...</td>\n",
       "      <td>...</td>\n",
       "      <td>...</td>\n",
       "      <td>...</td>\n",
       "      <td>...</td>\n",
       "      <td>...</td>\n",
       "      <td>...</td>\n",
       "      <td>...</td>\n",
       "      <td>...</td>\n",
       "      <td>...</td>\n",
       "      <td>...</td>\n",
       "      <td>...</td>\n",
       "      <td>...</td>\n",
       "    </tr>\n",
       "    <tr>\n",
       "      <th>1455</th>\n",
       "      <td>1456</td>\n",
       "      <td>60</td>\n",
       "      <td>RL</td>\n",
       "      <td>62.0</td>\n",
       "      <td>7917</td>\n",
       "      <td>Pave</td>\n",
       "      <td>NA</td>\n",
       "      <td>Reg</td>\n",
       "      <td>Lvl</td>\n",
       "      <td>AllPub</td>\n",
       "      <td>...</td>\n",
       "      <td>0</td>\n",
       "      <td>NA</td>\n",
       "      <td>NA</td>\n",
       "      <td>NA</td>\n",
       "      <td>0</td>\n",
       "      <td>8</td>\n",
       "      <td>2007</td>\n",
       "      <td>WD</td>\n",
       "      <td>Normal</td>\n",
       "      <td>175000</td>\n",
       "    </tr>\n",
       "    <tr>\n",
       "      <th>1456</th>\n",
       "      <td>1457</td>\n",
       "      <td>20</td>\n",
       "      <td>RL</td>\n",
       "      <td>85.0</td>\n",
       "      <td>13175</td>\n",
       "      <td>Pave</td>\n",
       "      <td>NA</td>\n",
       "      <td>Reg</td>\n",
       "      <td>Lvl</td>\n",
       "      <td>AllPub</td>\n",
       "      <td>...</td>\n",
       "      <td>0</td>\n",
       "      <td>NA</td>\n",
       "      <td>MnPrv</td>\n",
       "      <td>NA</td>\n",
       "      <td>0</td>\n",
       "      <td>2</td>\n",
       "      <td>2010</td>\n",
       "      <td>WD</td>\n",
       "      <td>Normal</td>\n",
       "      <td>210000</td>\n",
       "    </tr>\n",
       "    <tr>\n",
       "      <th>1457</th>\n",
       "      <td>1458</td>\n",
       "      <td>70</td>\n",
       "      <td>RL</td>\n",
       "      <td>66.0</td>\n",
       "      <td>9042</td>\n",
       "      <td>Pave</td>\n",
       "      <td>NA</td>\n",
       "      <td>Reg</td>\n",
       "      <td>Lvl</td>\n",
       "      <td>AllPub</td>\n",
       "      <td>...</td>\n",
       "      <td>0</td>\n",
       "      <td>NA</td>\n",
       "      <td>GdPrv</td>\n",
       "      <td>Shed</td>\n",
       "      <td>2500</td>\n",
       "      <td>5</td>\n",
       "      <td>2010</td>\n",
       "      <td>WD</td>\n",
       "      <td>Normal</td>\n",
       "      <td>266500</td>\n",
       "    </tr>\n",
       "    <tr>\n",
       "      <th>1458</th>\n",
       "      <td>1459</td>\n",
       "      <td>20</td>\n",
       "      <td>RL</td>\n",
       "      <td>68.0</td>\n",
       "      <td>9717</td>\n",
       "      <td>Pave</td>\n",
       "      <td>NA</td>\n",
       "      <td>Reg</td>\n",
       "      <td>Lvl</td>\n",
       "      <td>AllPub</td>\n",
       "      <td>...</td>\n",
       "      <td>0</td>\n",
       "      <td>NA</td>\n",
       "      <td>NA</td>\n",
       "      <td>NA</td>\n",
       "      <td>0</td>\n",
       "      <td>4</td>\n",
       "      <td>2010</td>\n",
       "      <td>WD</td>\n",
       "      <td>Normal</td>\n",
       "      <td>142125</td>\n",
       "    </tr>\n",
       "    <tr>\n",
       "      <th>1459</th>\n",
       "      <td>1460</td>\n",
       "      <td>20</td>\n",
       "      <td>RL</td>\n",
       "      <td>75.0</td>\n",
       "      <td>9937</td>\n",
       "      <td>Pave</td>\n",
       "      <td>NA</td>\n",
       "      <td>Reg</td>\n",
       "      <td>Lvl</td>\n",
       "      <td>AllPub</td>\n",
       "      <td>...</td>\n",
       "      <td>0</td>\n",
       "      <td>NA</td>\n",
       "      <td>NA</td>\n",
       "      <td>NA</td>\n",
       "      <td>0</td>\n",
       "      <td>6</td>\n",
       "      <td>2008</td>\n",
       "      <td>WD</td>\n",
       "      <td>Normal</td>\n",
       "      <td>147500</td>\n",
       "    </tr>\n",
       "  </tbody>\n",
       "</table>\n",
       "<p>1460 rows × 81 columns</p>\n",
       "</div>"
      ],
      "text/plain": [
       "        Id  MSSubClass MSZoning  LotFrontage  LotArea Street Alley LotShape  \\\n",
       "0        1          60       RL         65.0     8450   Pave    NA      Reg   \n",
       "1        2          20       RL         80.0     9600   Pave    NA      Reg   \n",
       "2        3          60       RL         68.0    11250   Pave    NA      IR1   \n",
       "3        4          70       RL         60.0     9550   Pave    NA      IR1   \n",
       "4        5          60       RL         84.0    14260   Pave    NA      IR1   \n",
       "...    ...         ...      ...          ...      ...    ...   ...      ...   \n",
       "1455  1456          60       RL         62.0     7917   Pave    NA      Reg   \n",
       "1456  1457          20       RL         85.0    13175   Pave    NA      Reg   \n",
       "1457  1458          70       RL         66.0     9042   Pave    NA      Reg   \n",
       "1458  1459          20       RL         68.0     9717   Pave    NA      Reg   \n",
       "1459  1460          20       RL         75.0     9937   Pave    NA      Reg   \n",
       "\n",
       "     LandContour Utilities  ... PoolArea PoolQC  Fence MiscFeature MiscVal  \\\n",
       "0            Lvl    AllPub  ...        0     NA     NA          NA       0   \n",
       "1            Lvl    AllPub  ...        0     NA     NA          NA       0   \n",
       "2            Lvl    AllPub  ...        0     NA     NA          NA       0   \n",
       "3            Lvl    AllPub  ...        0     NA     NA          NA       0   \n",
       "4            Lvl    AllPub  ...        0     NA     NA          NA       0   \n",
       "...          ...       ...  ...      ...    ...    ...         ...     ...   \n",
       "1455         Lvl    AllPub  ...        0     NA     NA          NA       0   \n",
       "1456         Lvl    AllPub  ...        0     NA  MnPrv          NA       0   \n",
       "1457         Lvl    AllPub  ...        0     NA  GdPrv        Shed    2500   \n",
       "1458         Lvl    AllPub  ...        0     NA     NA          NA       0   \n",
       "1459         Lvl    AllPub  ...        0     NA     NA          NA       0   \n",
       "\n",
       "     MoSold YrSold  SaleType  SaleCondition  SalePrice  \n",
       "0         2   2008        WD         Normal     208500  \n",
       "1         5   2007        WD         Normal     181500  \n",
       "2         9   2008        WD         Normal     223500  \n",
       "3         2   2006        WD        Abnorml     140000  \n",
       "4        12   2008        WD         Normal     250000  \n",
       "...     ...    ...       ...            ...        ...  \n",
       "1455      8   2007        WD         Normal     175000  \n",
       "1456      2   2010        WD         Normal     210000  \n",
       "1457      5   2010        WD         Normal     266500  \n",
       "1458      4   2010        WD         Normal     142125  \n",
       "1459      6   2008        WD         Normal     147500  \n",
       "\n",
       "[1460 rows x 81 columns]"
      ]
     },
     "execution_count": 6,
     "metadata": {},
     "output_type": "execute_result"
    }
   ],
   "source": [
    "df_train"
   ]
  },
  {
   "cell_type": "code",
   "execution_count": 7,
   "id": "2af8357b",
   "metadata": {},
   "outputs": [
    {
     "data": {
      "text/plain": [
       "LotFrontage    259\n",
       "MasVnrType       8\n",
       "MasVnrArea       8\n",
       "Electrical       1\n",
       "GarageYrBlt     81\n",
       "dtype: int64"
      ]
     },
     "execution_count": 7,
     "metadata": {},
     "output_type": "execute_result"
    }
   ],
   "source": [
    "df_train.isna().sum()[df_train.isna().sum()>0]"
   ]
  },
  {
   "cell_type": "code",
   "execution_count": 8,
   "id": "91fc5d9b",
   "metadata": {},
   "outputs": [
    {
     "data": {
      "text/plain": [
       "MSZoning          4\n",
       "LotFrontage     227\n",
       "Utilities         2\n",
       "Exterior1st       1\n",
       "Exterior2nd       1\n",
       "MasVnrType       16\n",
       "MasVnrArea       15\n",
       "BsmtFinSF1        1\n",
       "BsmtFinSF2        1\n",
       "BsmtUnfSF         1\n",
       "TotalBsmtSF       1\n",
       "BsmtFullBath      2\n",
       "BsmtHalfBath      2\n",
       "KitchenQual       1\n",
       "Functional        2\n",
       "GarageYrBlt      78\n",
       "GarageCars        1\n",
       "GarageArea        1\n",
       "SaleType          1\n",
       "dtype: int64"
      ]
     },
     "execution_count": 8,
     "metadata": {},
     "output_type": "execute_result"
    }
   ],
   "source": [
    "df_test.isna().sum()[df_test.isna().sum()>0]"
   ]
  },
  {
   "cell_type": "markdown",
   "id": "94ba912c",
   "metadata": {},
   "source": [
    "## Outlier Detection:"
   ]
  },
  {
   "cell_type": "code",
   "execution_count": 9,
   "id": "c11b7c92",
   "metadata": {},
   "outputs": [],
   "source": [
    "import matplotlib.pyplot as plt"
   ]
  },
  {
   "cell_type": "code",
   "execution_count": 10,
   "id": "b4875d29",
   "metadata": {},
   "outputs": [
    {
     "data": {
      "text/plain": [
       "(array([ 22., 126., 380., 343., 229., 144.,  86.,  49.,  28.,  23.,  12.,\n",
       "          7.,   3.,   1.,   2.,   1.,   2.,   0.,   0.,   2.]),\n",
       " array([ 34900.,  70905., 106910., 142915., 178920., 214925., 250930.,\n",
       "        286935., 322940., 358945., 394950., 430955., 466960., 502965.,\n",
       "        538970., 574975., 610980., 646985., 682990., 718995., 755000.]),\n",
       " <BarContainer object of 20 artists>)"
      ]
     },
     "execution_count": 10,
     "metadata": {},
     "output_type": "execute_result"
    },
    {
     "data": {
      "image/png": "[encoded data removed]",
      "text/plain": [
       "<Figure size 640x480 with 1 Axes>"
      ]
     },
     "metadata": {},
     "output_type": "display_data"
    }
   ],
   "source": [
    "plt.hist(df_train['SalePrice'], bins = 20)"
   ]
  },
  {
   "cell_type": "code",
   "execution_count": 11,
   "id": "e67e77b4",
   "metadata": {},
   "outputs": [
    {
     "data": {
      "text/plain": [
       "{'whiskers': [<matplotlib.lines.Line2D at 0x1b2a1754610>,\n",
       "  <matplotlib.lines.Line2D at 0x1b2a17548e0>],\n",
       " 'caps': [<matplotlib.lines.Line2D at 0x1b2a1754bb0>,\n",
       "  <matplotlib.lines.Line2D at 0x1b2a1754e80>],\n",
       " 'boxes': [<matplotlib.lines.Line2D at 0x1b2a1754340>],\n",
       " 'medians': [<matplotlib.lines.Line2D at 0x1b2a176a190>],\n",
       " 'fliers': [<matplotlib.lines.Line2D at 0x1b2a176a460>],\n",
       " 'means': []}"
      ]
     },
     "execution_count": 11,
     "metadata": {},
     "output_type": "execute_result"
    },
    {
     "data": {
      "image/png": "[encoded data removed]",
      "text/plain": [
       "<Figure size 640x480 with 1 Axes>"
      ]
     },
     "metadata": {},
     "output_type": "display_data"
    }
   ],
   "source": [
    "plt.boxplot(df_train['SalePrice'])"
   ]
  },
  {
   "cell_type": "code",
   "execution_count": 12,
   "id": "cdecf197",
   "metadata": {},
   "outputs": [
    {
     "data": {
      "text/plain": [
       "0       0.347154\n",
       "1       0.007286\n",
       "2       0.535970\n",
       "3      -0.515105\n",
       "4       0.869545\n",
       "          ...   \n",
       "1455   -0.074534\n",
       "1456    0.366036\n",
       "1457    1.077242\n",
       "1458   -0.488356\n",
       "1459   -0.420697\n",
       "Name: SalePrice, Length: 1460, dtype: float64"
      ]
     },
     "execution_count": 12,
     "metadata": {},
     "output_type": "execute_result"
    }
   ],
   "source": [
    "z_score = (df_train['SalePrice'] - df_train['SalePrice'].mean())/ df_train['SalePrice'].std()\n",
    "z_score"
   ]
  },
  {
   "cell_type": "code",
   "execution_count": 13,
   "id": "ccbdaf54",
   "metadata": {},
   "outputs": [],
   "source": [
    "df_train = df_train[(z_score >-1 ) & (z_score<=1)]"
   ]
  },
  {
   "cell_type": "code",
   "execution_count": 14,
   "id": "39883065",
   "metadata": {},
   "outputs": [],
   "source": [
    "columns_cat = list(df_train.select_dtypes(include = 'object').columns)\n",
    "columns_num = list(df_train.select_dtypes(exclude = 'object').columns)\n",
    "columns_num.remove('Id')\n",
    "columns_num.remove('SalePrice')"
   ]
  },
  {
   "cell_type": "markdown",
   "id": "dcd9db22",
   "metadata": {},
   "source": [
    "## Filling Missing Data - Simple Imputer"
   ]
  },
  {
   "cell_type": "code",
   "execution_count": 15,
   "id": "e2068a71",
   "metadata": {},
   "outputs": [],
   "source": [
    "from sklearn.impute import SimpleImputer\n",
    "imputer_cat = SimpleImputer(strategy= 'most_frequent')\n",
    "imputer_num = SimpleImputer(strategy= 'median')\n",
    "\n",
    "imputer_cat.fit(df_train[columns_cat])\n",
    "imputer_num.fit(df_train[columns_num])\n",
    "\n",
    "df_train[columns_cat] = imputer_cat.transform(df_train[columns_cat])\n",
    "df_train[columns_num] = imputer_num.transform(df_train[columns_num])\n",
    "\n",
    "df_test[columns_cat] = imputer_cat.transform(df_test[columns_cat])\n",
    "df_test[columns_num] = imputer_num.transform(df_test[columns_num])"
   ]
  },
  {
   "cell_type": "code",
   "execution_count": 16,
   "id": "b35f34ea",
   "metadata": {},
   "outputs": [
    {
     "data": {
      "text/plain": [
       "(Series([], dtype: int64), Series([], dtype: int64))"
      ]
     },
     "execution_count": 16,
     "metadata": {},
     "output_type": "execute_result"
    }
   ],
   "source": [
    "df_train.isna().sum()[df_train.isna().sum()>0], df_test.isna().sum()[df_test.isna().sum()>0]"
   ]
  },
  {
   "cell_type": "markdown",
   "id": "80b2a83b",
   "metadata": {},
   "source": [
    "## Encoding for Cat columns :"
   ]
  },
  {
   "cell_type": "code",
   "execution_count": 17,
   "id": "91a8e3be",
   "metadata": {},
   "outputs": [],
   "source": [
    "from sklearn.preprocessing import OneHotEncoder"
   ]
  },
  {
   "cell_type": "code",
   "execution_count": 18,
   "id": "00f96cdd",
   "metadata": {},
   "outputs": [
    {
     "data": {
      "text/plain": [
       "array(['x0_C (all)', 'x0_FV', 'x0_RH', 'x0_RL', 'x0_RM', 'x1_Grvl',\n",
       "       'x1_Pave', 'x2_Grvl', 'x2_NA', 'x2_Pave', 'x3_IR1', 'x3_IR2',\n",
       "       'x3_IR3', 'x3_Reg', 'x4_Bnk', 'x4_HLS', 'x4_Low', 'x4_Lvl',\n",
       "       'x5_AllPub', 'x5_NoSeWa', 'x6_Corner', 'x6_CulDSac', 'x6_FR2',\n",
       "       'x6_FR3', 'x6_Inside', 'x7_Gtl', 'x7_Mod', 'x7_Sev', 'x8_Blmngtn',\n",
       "       'x8_Blueste', 'x8_BrDale', 'x8_BrkSide', 'x8_ClearCr',\n",
       "       'x8_CollgCr', 'x8_Crawfor', 'x8_Edwards', 'x8_Gilbert',\n",
       "       'x8_IDOTRR', 'x8_MeadowV', 'x8_Mitchel', 'x8_NAmes', 'x8_NPkVill',\n",
       "       'x8_NWAmes', 'x8_NoRidge', 'x8_NridgHt', 'x8_OldTown', 'x8_SWISU',\n",
       "       'x8_Sawyer', 'x8_SawyerW', 'x8_Somerst', 'x8_StoneBr', 'x8_Timber',\n",
       "       'x8_Veenker', 'x9_Artery', 'x9_Feedr', 'x9_Norm', 'x9_PosA',\n",
       "       'x9_PosN', 'x9_RRAe', 'x9_RRAn', 'x9_RRNe', 'x9_RRNn',\n",
       "       'x10_Artery', 'x10_Feedr', 'x10_Norm', 'x10_PosN', 'x10_RRAe',\n",
       "       'x10_RRAn', 'x10_RRNn', 'x11_1Fam', 'x11_2fmCon', 'x11_Duplex',\n",
       "       'x11_Twnhs', 'x11_TwnhsE', 'x12_1.5Fin', 'x12_1.5Unf',\n",
       "       'x12_1Story', 'x12_2.5Fin', 'x12_2.5Unf', 'x12_2Story',\n",
       "       'x12_SFoyer', 'x12_SLvl', 'x13_Flat', 'x13_Gable', 'x13_Gambrel',\n",
       "       'x13_Hip', 'x13_Mansard', 'x13_Shed', 'x14_ClyTile', 'x14_CompShg',\n",
       "       'x14_Membran', 'x14_Metal', 'x14_Roll', 'x14_Tar&Grv',\n",
       "       'x14_WdShake', 'x14_WdShngl', 'x15_AsbShng', 'x15_BrkFace',\n",
       "       'x15_CBlock', 'x15_CemntBd', 'x15_HdBoard', 'x15_MetalSd',\n",
       "       'x15_Plywood', 'x15_Stone', 'x15_Stucco', 'x15_VinylSd',\n",
       "       'x15_Wd Sdng', 'x15_WdShing', 'x16_AsbShng', 'x16_AsphShn',\n",
       "       'x16_Brk Cmn', 'x16_BrkFace', 'x16_CBlock', 'x16_CmentBd',\n",
       "       'x16_HdBoard', 'x16_ImStucc', 'x16_MetalSd', 'x16_Plywood',\n",
       "       'x16_Stone', 'x16_Stucco', 'x16_VinylSd', 'x16_Wd Sdng',\n",
       "       'x16_Wd Shng', 'x17_BrkCmn', 'x17_BrkFace', 'x17_None',\n",
       "       'x17_Stone', 'x18_Ex', 'x18_Fa', 'x18_Gd', 'x18_TA', 'x19_Ex',\n",
       "       'x19_Fa', 'x19_Gd', 'x19_TA', 'x20_BrkTil', 'x20_CBlock',\n",
       "       'x20_PConc', 'x20_Slab', 'x20_Stone', 'x20_Wood', 'x21_Ex',\n",
       "       'x21_Fa', 'x21_Gd', 'x21_NA', 'x21_TA', 'x22_Fa', 'x22_Gd',\n",
       "       'x22_NA', 'x22_TA', 'x23_Av', 'x23_Gd', 'x23_Mn', 'x23_NA',\n",
       "       'x23_No', 'x24_ALQ', 'x24_BLQ', 'x24_GLQ', 'x24_LwQ', 'x24_NA',\n",
       "       'x24_Rec', 'x24_Unf', 'x25_ALQ', 'x25_BLQ', 'x25_GLQ', 'x25_LwQ',\n",
       "       'x25_NA', 'x25_Rec', 'x25_Unf', 'x26_GasA', 'x26_GasW', 'x26_Grav',\n",
       "       'x26_OthW', 'x27_Ex', 'x27_Fa', 'x27_Gd', 'x27_TA', 'x28_N',\n",
       "       'x28_Y', 'x29_FuseA', 'x29_FuseF', 'x29_FuseP', 'x29_SBrkr',\n",
       "       'x30_Ex', 'x30_Fa', 'x30_Gd', 'x30_TA', 'x31_Maj1', 'x31_Maj2',\n",
       "       'x31_Min1', 'x31_Min2', 'x31_Mod', 'x31_Sev', 'x31_Typ', 'x32_Ex',\n",
       "       'x32_Fa', 'x32_Gd', 'x32_NA', 'x32_Po', 'x32_TA', 'x33_2Types',\n",
       "       'x33_Attchd', 'x33_Basment', 'x33_BuiltIn', 'x33_CarPort',\n",
       "       'x33_Detchd', 'x33_NA', 'x34_Fin', 'x34_NA', 'x34_RFn', 'x34_Unf',\n",
       "       'x35_Ex', 'x35_Fa', 'x35_Gd', 'x35_NA', 'x35_Po', 'x35_TA',\n",
       "       'x36_Ex', 'x36_Fa', 'x36_Gd', 'x36_NA', 'x36_Po', 'x36_TA',\n",
       "       'x37_N', 'x37_P', 'x37_Y', 'x38_Ex', 'x38_Fa', 'x38_Gd', 'x38_NA',\n",
       "       'x39_GdPrv', 'x39_GdWo', 'x39_MnPrv', 'x39_MnWw', 'x39_NA',\n",
       "       'x40_Gar2', 'x40_NA', 'x40_Othr', 'x40_Shed', 'x40_TenC',\n",
       "       'x41_COD', 'x41_CWD', 'x41_Con', 'x41_ConLD', 'x41_ConLI',\n",
       "       'x41_ConLw', 'x41_New', 'x41_Oth', 'x41_WD', 'x42_Abnorml',\n",
       "       'x42_AdjLand', 'x42_Alloca', 'x42_Family', 'x42_Normal',\n",
       "       'x42_Partial'], dtype=object)"
      ]
     },
     "execution_count": 18,
     "metadata": {},
     "output_type": "execute_result"
    }
   ],
   "source": [
    "ohe = OneHotEncoder(handle_unknown='ignore')\n",
    "ohe.fit(df_train[columns_cat])\n",
    "\n",
    "ohe.get_feature_names()"
   ]
  },
  {
   "cell_type": "code",
   "execution_count": 19,
   "id": "a69cac0b",
   "metadata": {},
   "outputs": [],
   "source": [
    "df_train[ohe.get_feature_names()] = ohe.transform(df_train[columns_cat]).toarray()\n",
    "df_test[ohe.get_feature_names()] = ohe.transform(df_test[columns_cat]).toarray()"
   ]
  },
  {
   "cell_type": "markdown",
   "id": "6ebe757b",
   "metadata": {},
   "source": [
    "## Scaling Num column data - MinMaxScaler:"
   ]
  },
  {
   "cell_type": "code",
   "execution_count": 20,
   "id": "f0739af4",
   "metadata": {},
   "outputs": [],
   "source": [
    "from sklearn.preprocessing import MinMaxScaler\n",
    "scaler = MinMaxScaler()\n",
    "\n",
    "scaler.fit(df_train[columns_num])\n",
    "\n",
    "df_train[columns_num] = scaler.transform(df_train[columns_num])\n",
    "df_test[columns_num] = scaler.transform(df_test[columns_num])"
   ]
  },
  {
   "cell_type": "markdown",
   "id": "f5802767",
   "metadata": {},
   "source": [
    "# Feature Selection:"
   ]
  },
  {
   "cell_type": "code",
   "execution_count": 18,
   "id": "6aa38c34",
   "metadata": {},
   "outputs": [
    {
     "data": {
      "text/plain": [
       "MSSubClass    -0.020923\n",
       "LotFrontage    0.219305\n",
       "LotArea        0.226890\n",
       "OverallQual    0.685070\n",
       "OverallCond   -0.167041\n",
       "                 ...   \n",
       "x42_Alloca    -0.025203\n",
       "x42_Family    -0.028074\n",
       "x42_Normal    -0.049434\n",
       "x42_Partial    0.195906\n",
       "SalePrice      1.000000\n",
       "Name: SalePrice, Length: 292, dtype: float64"
      ]
     },
     "execution_count": 18,
     "metadata": {},
     "output_type": "execute_result"
    }
   ],
   "source": [
    "# col_list = columns_num + list(ohe.get_feature_names()) + ['SalePrice']\n",
    "# corr_values = df_train[col_list].corr()['SalePrice']\n",
    "# corr_values"
   ]
  },
  {
   "cell_type": "code",
   "execution_count": 19,
   "id": "92043183",
   "metadata": {},
   "outputs": [
    {
     "data": {
      "text/plain": [
       "120"
      ]
     },
     "execution_count": 19,
     "metadata": {},
     "output_type": "execute_result"
    }
   ],
   "source": [
    "# selected_col = list(corr_values[(corr_values > 0.1 ) | (corr_values < -0.1)].index)\n",
    "# selected_col.remove('SalePrice')\n",
    "# len(selected_col)"
   ]
  },
  {
   "cell_type": "markdown",
   "id": "2fe126ff",
   "metadata": {},
   "source": [
    "# Feature Reduction (PCA)"
   ]
  },
  {
   "cell_type": "code",
   "execution_count": 21,
   "id": "307824c9",
   "metadata": {},
   "outputs": [],
   "source": [
    "col_list = columns_num + list(ohe.get_feature_names())"
   ]
  },
  {
   "cell_type": "code",
   "execution_count": 22,
   "id": "e5779a18",
   "metadata": {},
   "outputs": [],
   "source": [
    "from sklearn.decomposition import PCA\n",
    "pca = PCA(n_components=10)"
   ]
  },
  {
   "cell_type": "code",
   "execution_count": 23,
   "id": "8f3e6d25",
   "metadata": {},
   "outputs": [],
   "source": [
    "X_new = pca.fit_transform(df_train[col_list])\n",
    "y_new = pca.fit_transform(df_test[col_list])"
   ]
  },
  {
   "cell_type": "code",
   "execution_count": 24,
   "id": "8d85b7d8",
   "metadata": {},
   "outputs": [
    {
     "data": {
      "text/plain": [
       "array([2.48377566, 1.01112151, 0.60647739, 0.53921961, 0.48605971,\n",
       "       0.45794348, 0.39383817, 0.37717793, 0.35414475, 0.31828142])"
      ]
     },
     "execution_count": 24,
     "metadata": {},
     "output_type": "execute_result"
    }
   ],
   "source": [
    "pca.explained_variance_"
   ]
  },
  {
   "cell_type": "code",
   "execution_count": 25,
   "id": "2385f060",
   "metadata": {},
   "outputs": [
    {
     "data": {
      "text/plain": [
       "array([[ 0.00287549,  0.0087381 ,  0.00257522, ..., -0.00249422,\n",
       "        -0.03300595,  0.06806846],\n",
       "       [ 0.0667142 , -0.01853557, -0.00803087, ...,  0.00095699,\n",
       "        -0.03758479,  0.02762957],\n",
       "       [-0.05881942,  0.01384679,  0.00410632, ..., -0.00068823,\n",
       "        -0.16269342,  0.124454  ],\n",
       "       ...,\n",
       "       [-0.0664681 ,  0.01496959,  0.00552304, ..., -0.01622803,\n",
       "         0.25906432, -0.19537991],\n",
       "       [-0.01237176, -0.00171995,  0.00140085, ..., -0.00842953,\n",
       "         0.14490088, -0.09316431],\n",
       "       [-0.03321659,  0.01567269,  0.00127947, ..., -0.0113457 ,\n",
       "         0.07162459, -0.05870347]])"
      ]
     },
     "execution_count": 25,
     "metadata": {},
     "output_type": "execute_result"
    }
   ],
   "source": [
    "pca.components_"
   ]
  },
  {
   "cell_type": "code",
   "execution_count": 26,
   "id": "70999340",
   "metadata": {},
   "outputs": [
    {
     "data": {
      "text/plain": [
       "((1145, 10), (1459, 10))"
      ]
     },
     "execution_count": 26,
     "metadata": {},
     "output_type": "execute_result"
    }
   ],
   "source": [
    "X_new.shape, y_new.shape"
   ]
  },
  {
   "cell_type": "markdown",
   "id": "0b024a64",
   "metadata": {},
   "source": [
    "## Building Model:\n"
   ]
  },
  {
   "cell_type": "code",
   "execution_count": 27,
   "id": "b84b5b3a",
   "metadata": {},
   "outputs": [],
   "source": [
    "# selected_col = columns_num + list(ohe.get_feature_names()) # IF FEATURE SELECTION NOT USed then use this line\n",
    "# X = df_train[selected_col]\n",
    "X = X_new     # we have used PCA thats why take pca models x_new as x\n",
    "y = df_train['SalePrice']"
   ]
  },
  {
   "cell_type": "markdown",
   "id": "059962ff",
   "metadata": {},
   "source": [
    "### Linear Regression:\n"
   ]
  },
  {
   "cell_type": "code",
   "execution_count": 28,
   "id": "da1ae9e0",
   "metadata": {},
   "outputs": [
    {
     "data": {
      "text/plain": [
       "LinearRegression()"
      ]
     },
     "execution_count": 28,
     "metadata": {},
     "output_type": "execute_result"
    }
   ],
   "source": [
    "from sklearn.linear_model import LinearRegression\n",
    "model_lr = LinearRegression()\n",
    "model_lr.fit(X,y)"
   ]
  },
  {
   "cell_type": "code",
   "execution_count": 29,
   "id": "68f95534",
   "metadata": {},
   "outputs": [
    {
     "data": {
      "text/plain": [
       "0.6154965643970167"
      ]
     },
     "execution_count": 29,
     "metadata": {},
     "output_type": "execute_result"
    }
   ],
   "source": [
    "model_lr.score(X,y)"
   ]
  },
  {
   "cell_type": "code",
   "execution_count": 30,
   "id": "9c1be73d",
   "metadata": {},
   "outputs": [],
   "source": [
    "# yp_lr = model_svr.predict(df_test[selected_col]) #Use this when pca not used\n",
    "yp_lr = model_lr.predict(y_new)"
   ]
  },
  {
   "cell_type": "code",
   "execution_count": 31,
   "id": "7d78ca34",
   "metadata": {},
   "outputs": [
    {
     "data": {
      "text/plain": [
       "array([140944.7337704 , 174676.11021052, 158781.62620796, ...,\n",
       "       156582.38283841, 119541.40199667, 169846.09169958])"
      ]
     },
     "execution_count": 31,
     "metadata": {},
     "output_type": "execute_result"
    }
   ],
   "source": [
    "yp_lr"
   ]
  },
  {
   "cell_type": "code",
   "execution_count": 32,
   "id": "405077e5",
   "metadata": {},
   "outputs": [],
   "source": [
    "df_test['SalePrice'] = yp_lr"
   ]
  },
  {
   "cell_type": "code",
   "execution_count": 33,
   "id": "78a24c1b",
   "metadata": {},
   "outputs": [],
   "source": [
    "df_test[['Id','SalePrice']].to_csv('lr_pca.csv', index= False)"
   ]
  },
  {
   "cell_type": "markdown",
   "id": "7f59fc13",
   "metadata": {},
   "source": [
    "### KNeighborsRegressor Model"
   ]
  },
  {
   "cell_type": "code",
   "execution_count": 34,
   "id": "0da7820b",
   "metadata": {},
   "outputs": [
    {
     "data": {
      "text/plain": [
       "0.70305367843202"
      ]
     },
     "execution_count": 34,
     "metadata": {},
     "output_type": "execute_result"
    }
   ],
   "source": [
    "from sklearn.neighbors import KNeighborsRegressor\n",
    "model_KNR = KNeighborsRegressor(n_neighbors=11)\n",
    "model_KNR.fit(X,y)\n",
    "model_KNR.score(X,y)"
   ]
  },
  {
   "cell_type": "code",
   "execution_count": 35,
   "id": "6694e25e",
   "metadata": {},
   "outputs": [],
   "source": [
    "# yp_KNR = model_svr.predict(df_test[selected_col]) # use this when pca not used\n",
    "yp_KNR = model_KNR.predict(y_new)"
   ]
  },
  {
   "cell_type": "code",
   "execution_count": 36,
   "id": "e17b09bc",
   "metadata": {},
   "outputs": [],
   "source": [
    "df_test['SalePrice'] = yp_KNR\n",
    "df_test[['Id','SalePrice']].to_csv('knr_pca.csv',index = False)"
   ]
  },
  {
   "cell_type": "markdown",
   "id": "83f8e360",
   "metadata": {},
   "source": [
    "### SVM  Model:"
   ]
  },
  {
   "cell_type": "code",
   "execution_count": 37,
   "id": "e830e59a",
   "metadata": {},
   "outputs": [],
   "source": [
    "from sklearn.svm import SVR"
   ]
  },
  {
   "cell_type": "code",
   "execution_count": 38,
   "id": "cabd0163",
   "metadata": {},
   "outputs": [
    {
     "data": {
      "text/plain": [
       "-0.02258377318243654"
      ]
     },
     "execution_count": 38,
     "metadata": {},
     "output_type": "execute_result"
    }
   ],
   "source": [
    "model_svr = SVR(kernel='poly')\n",
    "model_svr.fit(X,y)\n",
    "model_svr.score(X,y)"
   ]
  },
  {
   "cell_type": "code",
   "execution_count": 39,
   "id": "e14e4e76",
   "metadata": {},
   "outputs": [],
   "source": [
    "# yp_svr = model_svr.predict(df_test[selected_col])  # use this when pca not used\n",
    "yp_svr = model_svr.predict(y_new)"
   ]
  },
  {
   "cell_type": "code",
   "execution_count": 40,
   "id": "f39a46c9",
   "metadata": {},
   "outputs": [],
   "source": [
    "df_test['SalePrice'] = yp_svr\n",
    "df_test[['Id','SalePrice']].to_csv('svr_pca.csv',index = False)"
   ]
  },
  {
   "cell_type": "markdown",
   "id": "90b20661",
   "metadata": {},
   "source": [
    "## Random Forest:"
   ]
  },
  {
   "cell_type": "code",
   "execution_count": 41,
   "id": "651a6fcc",
   "metadata": {},
   "outputs": [],
   "source": [
    "from sklearn.ensemble import RandomForestRegressor\n",
    "from sklearn.model_selection import GridSearchCV\n",
    "from sklearn.metrics import accuracy_score"
   ]
  },
  {
   "cell_type": "code",
   "execution_count": 42,
   "id": "fc3545b4",
   "metadata": {},
   "outputs": [],
   "source": [
    "params = {'n_estimators': [10,20,30,40,50,60,70], 'max_depth':[2,3,4,5],\"min_samples_leaf\":[2,3,4,5]}\n",
    "gridcv = GridSearchCV(RandomForestRegressor(),param_grid=params,cv=5,verbose=0,scoring='accuracy')"
   ]
  },
  {
   "cell_type": "code",
   "execution_count": 43,
   "id": "f274930b",
   "metadata": {},
   "outputs": [
    {
     "data": {
      "text/plain": [
       "GridSearchCV(cv=5, estimator=RandomForestRegressor(),\n",
       "             param_grid={'max_depth': [2, 3, 4, 5],\n",
       "                         'min_samples_leaf': [2, 3, 4, 5],\n",
       "                         'n_estimators': [10, 20, 30, 40, 50, 60, 70]},\n",
       "             scoring='accuracy')"
      ]
     },
     "execution_count": 43,
     "metadata": {},
     "output_type": "execute_result"
    }
   ],
   "source": [
    "gridcv.fit(X,y)"
   ]
  },
  {
   "cell_type": "code",
   "execution_count": 44,
   "id": "0a9ba861",
   "metadata": {},
   "outputs": [
    {
     "data": {
      "text/plain": [
       "RandomForestRegressor(max_depth=2, min_samples_leaf=2, n_estimators=10)"
      ]
     },
     "execution_count": 44,
     "metadata": {},
     "output_type": "execute_result"
    }
   ],
   "source": [
    "gridcv.best_estimator_"
   ]
  },
  {
   "cell_type": "code",
   "execution_count": 45,
   "id": "549e9445",
   "metadata": {},
   "outputs": [],
   "source": [
    "model_rf = RandomForestRegressor(max_depth=2, min_samples_leaf=2, n_estimators=10)"
   ]
  },
  {
   "cell_type": "code",
   "execution_count": 46,
   "id": "afb02f9b",
   "metadata": {},
   "outputs": [
    {
     "data": {
      "text/plain": [
       "RandomForestRegressor(max_depth=2, min_samples_leaf=2, n_estimators=10)"
      ]
     },
     "execution_count": 46,
     "metadata": {},
     "output_type": "execute_result"
    }
   ],
   "source": [
    "model_rf.fit(X,y)"
   ]
  },
  {
   "cell_type": "code",
   "execution_count": 47,
   "id": "002ecf14",
   "metadata": {},
   "outputs": [],
   "source": [
    "# yp_rf = model_rf.predict(df_test[selected_col]) #Use this when pca not used\n",
    "yp_rf = model_rf.predict(y_new)"
   ]
  },
  {
   "cell_type": "code",
   "execution_count": 48,
   "id": "24b2bc1f",
   "metadata": {},
   "outputs": [],
   "source": [
    "df_test['SalePrice'] = yp_rf"
   ]
  },
  {
   "cell_type": "code",
   "execution_count": 49,
   "id": "519e22e6",
   "metadata": {},
   "outputs": [],
   "source": [
    "df_test[['Id','SalePrice']].to_csv('rf_pca.csv', index= False)"
   ]
  },
  {
   "cell_type": "markdown",
   "id": "bf7b8c34",
   "metadata": {},
   "source": [
    "## GradientBoostingRegressor Model:"
   ]
  },
  {
   "cell_type": "code",
   "execution_count": 50,
   "id": "894a57ec",
   "metadata": {},
   "outputs": [],
   "source": [
    "from sklearn.ensemble import GradientBoostingRegressor"
   ]
  },
  {
   "cell_type": "code",
   "execution_count": 51,
   "id": "22144bfd",
   "metadata": {},
   "outputs": [
    {
     "data": {
      "text/plain": [
       "0.8113857286564965"
      ]
     },
     "execution_count": 51,
     "metadata": {},
     "output_type": "execute_result"
    }
   ],
   "source": [
    "model_gbr = GradientBoostingRegressor(n_estimators=99)\n",
    "model_gbr.fit(X,y)\n",
    "model_gbr.score(X,y)"
   ]
  },
  {
   "cell_type": "code",
   "execution_count": 52,
   "id": "31e3f31c",
   "metadata": {},
   "outputs": [],
   "source": [
    "# yp_gbr = model_gbr.predict(df_test[selected_col]) #Use when PCA not used\n",
    "yp_gbr = model_gbr.predict(y_new)"
   ]
  },
  {
   "cell_type": "code",
   "execution_count": 53,
   "id": "6647f344",
   "metadata": {},
   "outputs": [],
   "source": [
    "df_test['SalePrice'] = yp_gbr\n",
    "df_test[['Id','SalePrice']].to_csv('gbr_pca.csv', index= False)"
   ]
  },
  {
   "cell_type": "code",
   "execution_count": null,
   "id": "8060ad69",
   "metadata": {},
   "outputs": [],
   "source": []
  }
 ],
 "metadata": {
  "kernelspec": {
   "display_name": "Python 3 (ipykernel)",
   "language": "python",
   "name": "python3"
  },
  "language_info": {
   "codemirror_mode": {
    "name": "ipython",
    "version": 3
   },
   "file_extension": ".py",
   "mimetype": "text/x-python",
   "name": "python",
   "nbconvert_exporter": "python",
   "pygments_lexer": "ipython3",
   "version": "3.9.13"
  }
 },
 "nbformat": 4,
 "nbformat_minor": 5
}
